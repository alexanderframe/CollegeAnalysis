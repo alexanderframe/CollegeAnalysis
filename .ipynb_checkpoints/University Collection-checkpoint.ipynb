{
 "cells": [
  {
   "cell_type": "code",
   "execution_count": 1,
   "metadata": {},
   "outputs": [],
   "source": [
    "# Dependencies\n",
    "import pandas as pd\n",
    "import requests\n",
    "import json\n",
    "from pprint import pprint\n",
    "\n",
    "# CollegeScorecard Key\n",
    "from keys import dataKey"
   ]
  },
  {
   "cell_type": "code",
   "execution_count": 2,
   "metadata": {},
   "outputs": [],
   "source": [
    "# Create base URL \n",
    "\n",
    "baseURL = 'https://api.data.gov/ed/collegescorecard/v1/schools/'"
   ]
  },
  {
   "cell_type": "code",
   "execution_count": 3,
   "metadata": {},
   "outputs": [],
   "source": [
    "# Collect school information for currently operating non-online only schools that offer up to graduate degrees\n",
    "# Sort by undergraduate size\n",
    "\n",
    "# Fields collected:\n",
    "#     latest.student.size,\n",
    "#     latest.student.demographics.median_family_income,\n",
    "#     school.name,\n",
    "#     school.city,\n",
    "#     school.state,\n",
    "#     school.degrees_awarded.highest,\n",
    "#     school.tuition_revenue_per_fte,\n",
    "#     school.faculty_salary,\n",
    "#     latest.admissions.admission_rate.overall,\n",
    "#     latest.cost.attendance.academic_year,\n",
    "#     latest.academics.program_reporter.programs_offered,\n",
    "#     latest.completion.completion_rate_4yr_150nt,\n",
    "#     latest.earnings.10_yrs_after_entry.median\n",
    "    \n",
    "\n",
    "params = {\n",
    "\n",
    "    'api_key': dataKey,\n",
    "    '_sort': 'latest.student.size:desc',\n",
    "    'school.operating':'1',\n",
    "    'school.online_only': '0',\n",
    "    'school.degrees_awarded.highest': '4',\n",
    "    '_per_page': '100',\n",
    "    '_page': '0',\n",
    "    '_fields': 'latest.student.size,latest.student.demographics.median_family_income,school.name,school.city,school.state,school.tuition_revenue_per_fte,school.faculty_salary,latest.admissions.admission_rate.overall,latest.cost.attendance.academic_year,latest.completion.completion_rate_4yr_150nt,latest.earnings.10_yrs_after_entry.median'\n",
    "    \n",
    "}"
   ]
  },
  {
   "cell_type": "code",
   "execution_count": 4,
   "metadata": {},
   "outputs": [],
   "source": [
    "response0 = requests.get(baseURL, params=params)\n",
    "\n",
    "schoolData0 = response0.json()\n",
    "\n",
    "# pprint(schoolData0)"
   ]
  },
  {
   "cell_type": "code",
   "execution_count": 5,
   "metadata": {},
   "outputs": [],
   "source": [
    "# schoolData0['results'][0]['school.name']"
   ]
  },
  {
   "cell_type": "code",
   "execution_count": 6,
   "metadata": {},
   "outputs": [],
   "source": [
    "# Retrieve next page to end up with 500 schools total, in 5 variables\n",
    "\n",
    "params['_page']='1'\n",
    "response1 = requests.get(baseURL, params=params)\n",
    "\n",
    "schoolData1 = response1.json()\n",
    "\n",
    "# pprint(schoolData1)"
   ]
  },
  {
   "cell_type": "code",
   "execution_count": 7,
   "metadata": {},
   "outputs": [],
   "source": [
    "# schoolData1['results'][0]['school.name']"
   ]
  },
  {
   "cell_type": "code",
   "execution_count": 8,
   "metadata": {},
   "outputs": [],
   "source": [
    "# Add returned schools from schoolData1 to schoolData0\n",
    "# print(len(schoolData0['results']))\n",
    "# print(len(schoolData1['results']))\n",
    "\n",
    "schoolData0['results'].extend(schoolData1['results'])\n",
    "# print(len(schoolData0['results']))\n",
    "# pprint(schoolData0)\n",
    "\n",
    "# Set original data variable to new overarching variable\n",
    "schoolData = schoolData0\n",
    "# print(len(schoolData['results']))\n",
    "# pprint(schoolData)"
   ]
  },
  {
   "cell_type": "code",
   "execution_count": 9,
   "metadata": {},
   "outputs": [],
   "source": [
    "# Repeat process 3 times, to end up with 500 schools within schoolData\n",
    "params['_page']='2'\n",
    "response2 = requests.get(baseURL, params=params)\n",
    "schoolData2 = response2.json()\n",
    "schoolData['results'].extend(schoolData2['results'])\n",
    "\n",
    "params['_page']='3'\n",
    "response3 = requests.get(baseURL, params=params)\n",
    "schoolData3 = response3.json()\n",
    "schoolData['results'].extend(schoolData3['results'])\n",
    "\n",
    "params['_page']='4'\n",
    "response4 = requests.get(baseURL, params=params)\n",
    "schoolData4 = response4.json()\n",
    "schoolData['results'].extend(schoolData4['results'])"
   ]
  },
  {
   "cell_type": "code",
   "execution_count": 10,
   "metadata": {},
   "outputs": [
    {
     "name": "stdout",
     "output_type": "stream",
     "text": [
      "500\n"
     ]
    }
   ],
   "source": [
    "print(len(schoolData['results']))"
   ]
  },
  {
   "cell_type": "code",
   "execution_count": 13,
   "metadata": {},
   "outputs": [
    {
     "data": {
      "text/plain": [
       "'Winston-Salem State University'"
      ]
     },
     "execution_count": 13,
     "metadata": {},
     "output_type": "execute_result"
    }
   ],
   "source": [
    "schoolData['results'][499]['school.name']"
   ]
  },
  {
   "cell_type": "code",
   "execution_count": 12,
   "metadata": {},
   "outputs": [],
   "source": [
    "# Create empty lists to store school info\n",
    "\n",
    "names = []\n",
    "cities = []\n",
    "states = []\n",
    "size = []\n",
    "admission = []\n",
    "attendanceCost = []\n",
    "faculty = []\n",
    "revenue = []\n",
    "completion = []\n",
    "income = []\n",
    "earnings = []"
   ]
  },
  {
   "cell_type": "code",
   "execution_count": 14,
   "metadata": {},
   "outputs": [],
   "source": [
    "# Create DataFrame using acquired school info"
   ]
  },
  {
   "cell_type": "code",
   "execution_count": null,
   "metadata": {},
   "outputs": [],
   "source": []
  },
  {
   "cell_type": "code",
   "execution_count": null,
   "metadata": {},
   "outputs": [],
   "source": []
  }
 ],
 "metadata": {
  "kernelspec": {
   "display_name": "Python 3",
   "language": "python",
   "name": "python3"
  },
  "language_info": {
   "codemirror_mode": {
    "name": "ipython",
    "version": 3
   },
   "file_extension": ".py",
   "mimetype": "text/x-python",
   "name": "python",
   "nbconvert_exporter": "python",
   "pygments_lexer": "ipython3",
   "version": "3.7.3"
  }
 },
 "nbformat": 4,
 "nbformat_minor": 2
}
